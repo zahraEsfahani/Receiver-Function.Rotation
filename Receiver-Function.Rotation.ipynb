{
 "cells": [
  {
   "cell_type": "markdown",
   "id": "4b6bfc40",
   "metadata": {},
   "source": [
    "# Load Import Libraries"
   ]
  },
  {
   "cell_type": "code",
   "execution_count": 1,
   "id": "cbcaab8a",
   "metadata": {},
   "outputs": [],
   "source": [
    "import numpy as np\n",
    "import math\n",
    "import obspy\n",
    "from seispy.decon import RFTrace\n",
    "import seispy\n",
    "import scipy\n",
    "import scipy.io as sio\n",
    "import scipy.io as spio\n",
    "import scipy.io\n",
    "from scipy.io import savemat\n",
    "from scipy.io import loadmat\n",
    "from matplotlib import pyplot as plt\n",
    "from future.utils import native_str\n",
    "import os\n",
    "from obspy.core import UTCDateTime\n",
    "import sys\n",
    "from scipy import interpolate\n",
    "from scipy.interpolate import interp1d\n",
    "from os.path import dirname, join as pjoin\n",
    "from scipy import signal\n",
    "from obspy import read\n",
    "from obspy.taup import TauPyModel\n",
    "model = TauPyModel(model=\"iasp91\")\n",
    "import pandas as pd"
   ]
  },
  {
   "cell_type": "markdown",
   "id": "80261c27",
   "metadata": {},
   "source": [
    "# Set All Parameters\n",
    "# Code, Function[dseis] = decon(fseis,source,water_level)\n",
    "# RF function"
   ]
  },
  {
   "cell_type": "code",
   "execution_count": 2,
   "id": "cc5d5cd2",
   "metadata": {},
   "outputs": [],
   "source": [
    "def reciever_function(trace,source,water_level=0.01,tshift=10):\n",
    "    '''\n",
    "    To have the Reciever_function(trace,source,water_level=1000,tshift=10), input the stream in (E,N,Z) directions \n",
    "    and rotate them in (R-T-Z)component, For the rotation process, we need to be careful to separate specific \n",
    "    parts of the traces to make sure that we have first \"P\" arrivals.\n",
    "    Source and trace are single traces, and then we need to produce a single deconvolved trace. \n",
    "    By each corresponding Source and apply ifft,(the value of water_level(damping factor) and t-shift have been\n",
    "    recommended).The results help to make Reciever_function for the station.\n",
    "    '''\n",
    "    slength = (trace.data).shape[0]\n",
    "    source_matrix = np.matrix(source)\n",
    "    nsrc = source_matrix.shape[0]\n",
    "    trace_matrix = np.matrix(trace)\n",
    "    ntr = trace_matrix.shape[0]\n",
    "    n2=2**(math.ceil(math.log(slength)/math.log(2)))\n",
    "    omega = np.arange(0,n2/2)*2*(math.pi)/(n2*delta)\n",
    "    wtshift = -(1j)*omega*tshift\n",
    "    traceft = np.fft.fft([st_rot.traces[1].data],n2,axis=1)\n",
    "    sourceft = np.fft.fft([st_rot.traces[2].data],n2,axis=1)\n",
    "    traceft = traceft[:,0:int(n2/2)]\n",
    "    sourceft = sourceft[:,0:int(n2/2)]\n",
    "    traceft_real = (traceft.real)[0]\n",
    "    sourceft_real = (sourceft.real)[0]\n",
    "    dseisft = np.multiply(traceft,np.conjugate(sourceft))/(np.multiply(sourceft,np.conjugate(sourceft))+water_level)\n",
    "    dseisft_real = (dseisft.real)[0]\n",
    "    zeros_wtshift = np.zeros_like(wtshift)\n",
    "    dseisft=np.multiply(dseisft,(np.ones((1,1))*np.exp(zeros_wtshift)))\n",
    "    dseisfttrans = np.array(np.transpose(dseisft))\n",
    "    dseisftfinal =np.concatenate([dseisfttrans,np.fliplr(np.conjugate(dseisfttrans[1:int(n2/2)]))])\n",
    "    rf = np.fft.irfft(dseisftfinal,n2,0)\n",
    "    rf = (rf[0:slength])\n",
    "    return(rf,omega,wtshift,dseisft_real) "
   ]
  },
  {
   "cell_type": "code",
   "execution_count": 3,
   "id": "deab281b",
   "metadata": {},
   "outputs": [],
   "source": [
    "st = obspy.read('/home/zahra/ReceiverFunction/test3/DK.TULEG..BH*_2012-10-28T03_05_46.637_2012-10-28T03_20_46.637.sac')\n",
    "tr = st[0].stats\n",
    "st.plot()\n",
    "print(tr)\n",
    "arrivals = model.get_travel_times(source_depth_in_km=7.04,distance_in_degree=33.38,phase_list=[\"P\"])\n",
    "print(arrivals)\n",
    "dt = UTCDateTime(\"2012-10-28T03:05:10\")\n",
    "st.trim(starttime =dt, endtime=dt+200+398.861)\n",
    "\n",
    "st.plot()\n",
    "st.plot(outfile='ThreeComponentAfterTrimBeforeRotateMag7.8Dis:33.png')\n",
    "tr1 = st[0].stats\n",
    "print(tr1)\n",
    "\n",
    "delta =0.05\n",
    "water_level=0.01\n",
    "\n",
    "tr2 = st[0]\n",
    "\n",
    "da = seispy.distaz(st[0].stats.sac.stla, st[0].stats.sac.stlo,st[0].stats.sac.evla, st[0].stats.sac.evlo)\n",
    "dis = da.delta\n",
    "bazi = da.baz\n",
    "ev_dep = st[0].stats.sac.evdp\n",
    "print('Distance = %5.2f˚' %dis)\n",
    "print('back_azimuth = %5.2f˚' %bazi)\n",
    "st_rot = st.copy().rotate(\"NE->RT\", back_azimuth=bazi)\n",
    "\n",
    "trace =  st_rot.traces[1]\n",
    "source = st_rot.traces[0]\n",
    "\n",
    "rf,omega,wtshift,dseisft_real=reciever_function(trace,source,water_level)"
   ]
  },
  {
   "cell_type": "code",
   "execution_count": 4,
   "id": "52f3e329",
   "metadata": {},
   "outputs": [],
   "source": [
    "st_rot.plot()"
   ]
  }
 ],
 "metadata": {
  "kernelspec": {
   "display_name": "Python 3 (ipykernel)",
   "language": "python",
   "name": "python3"
  },
  "language_info": {
   "codemirror_mode": {
    "name": "ipython",
    "version": 3
   },
   "file_extension": ".py",
   "mimetype": "text/x-python",
   "name": "python",
   "nbconvert_exporter": "python",
   "pygments_lexer": "ipython3",
   "version": "3.8.10"
  }
 },
 "nbformat": 4,
 "nbformat_minor": 5
}
